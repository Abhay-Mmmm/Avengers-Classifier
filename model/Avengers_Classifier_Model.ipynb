{
 "cells": [
  {
   "cell_type": "code",
   "execution_count": 1,
   "id": "556923d5-318d-4cb9-b045-f2c2c1942923",
   "metadata": {},
   "outputs": [],
   "source": [
    "#Import all the required packages"
   ]
  },
  {
   "cell_type": "code",
   "execution_count": 2,
   "id": "6e44e3c1-7fe4-40f3-8d96-f44662f13011",
   "metadata": {},
   "outputs": [],
   "source": [
    "import numpy as np\n",
    "import cv2\n",
    "import matplotlib.pyplot as plt\n",
    "import os\n",
    "import shutil\n",
    "import pywt\n",
    "from sklearn.svm import SVC\n",
    "from sklearn.preprocessing import StandardScaler\n",
    "from sklearn.model_selection import train_test_split\n",
    "from sklearn.pipeline import Pipeline\n",
    "from sklearn.metrics import classification_report"
   ]
  },
  {
   "cell_type": "code",
   "execution_count": 3,
   "id": "8a5eef35-960e-4717-9c11-0f0a0b4cb6cc",
   "metadata": {},
   "outputs": [],
   "source": [
    "#Use pl.show() to show the image after the plt.imshow() function"
   ]
  },
  {
   "cell_type": "code",
   "execution_count": 4,
   "id": "718c4ae0-8516-4431-9e83-48f6085b221c",
   "metadata": {},
   "outputs": [
    {
     "name": "stdout",
     "output_type": "stream",
     "text": [
      "(247, 204, 3)\n"
     ]
    }
   ],
   "source": [
    "#Load the image from the directory\n",
    "img = cv2.imread(r\"C:\\Users\\Abhay\\Desktop\\Programs\\Projects\\AvengersClassifier\\model\\test_images\\TonyStark1.jpg\")\n",
    "print(img.shape if img is not None else \"Failed to load image\")"
   ]
  },
  {
   "cell_type": "code",
   "execution_count": 5,
   "id": "f87e0632-5dd6-41a3-9b34-0ca5f7e26bf1",
   "metadata": {},
   "outputs": [],
   "source": [
    "#Convert the image to RGB\n",
    "img_rgb = cv2.cvtColor(img, cv2.COLOR_BGR2RGB)\n",
    "#plt.imshow(img_rgb) shows the image in RGB format"
   ]
  },
  {
   "cell_type": "code",
   "execution_count": 6,
   "id": "4e7deff4-72fe-4b1c-840c-ac37e2b84dd4",
   "metadata": {},
   "outputs": [],
   "source": [
    "#Detecting faces and eyes in the image\n",
    "face_cascade = cv2.CascadeClassifier(r\"C:\\Users\\Abhay\\Desktop\\Programs\\Projects\\AvengersClassifier\\model\\opencv\\haarcascades\\haarcascade_frontalface_default.xml\")\n",
    "eye_cascade = cv2.CascadeClassifier(r\"C:\\Users\\Abhay\\Desktop\\Programs\\Projects\\AvengersClassifier\\model\\opencv\\haarcascades\\haarcascade_eye.xml\")"
   ]
  },
  {
   "cell_type": "code",
   "execution_count": 7,
   "id": "57befb4c-fb3e-49fc-b23e-a01bcc12652a",
   "metadata": {},
   "outputs": [
    {
     "name": "stdout",
     "output_type": "stream",
     "text": [
      "Face Cords are [[69 47 92 92]]\n"
     ]
    }
   ],
   "source": [
    "faces = face_cascade.detectMultiScale(img_rgb,1.3,5)\n",
    "print(\"Face Cords are\",faces) #Prints the coordinates of the face detected"
   ]
  },
  {
   "cell_type": "code",
   "execution_count": 8,
   "id": "5ab5d493-0cfd-4b2b-8b32-aa329e4cd5ad",
   "metadata": {},
   "outputs": [],
   "source": [
    "#Draw rectangle around the face\n",
    "(x,y,w,h) = faces[0]\n",
    "face_img = cv2.rectangle(img_rgb,(x,y),(x+w,y+h),(0,255,0),1)\n",
    "#Draws a rectangle around the face and the 1 is the thickness also the color is in RGB hence the 3 cords\n",
    "#plt.imshow(face_img) shows the image with the rectangle around the face"
   ]
  },
  {
   "cell_type": "code",
   "execution_count": 9,
   "id": "0c5d2407-5633-4041-916b-22a261d729c6",
   "metadata": {},
   "outputs": [
    {
     "data": {
      "text/plain": [
       "<Figure size 640x480 with 0 Axes>"
      ]
     },
     "execution_count": 9,
     "metadata": {},
     "output_type": "execute_result"
    },
    {
     "data": {
      "text/plain": [
       "<Figure size 640x480 with 0 Axes>"
      ]
     },
     "metadata": {},
     "output_type": "display_data"
    }
   ],
   "source": [
    "#Now eyes detection\n",
    "cv2.destroyAllWindows()\n",
    "for(x,y,w,h) in faces:\n",
    "    face_img = cv2.rectangle(img,(x,y),(x+w,y+h),(255,0,0),1)\n",
    "    roi_rgb = img_rgb[y:y+h,x:x+w]\n",
    "    roi_color = face_img[y:y+h,x:x+w] #roi basically means the region of interest, In our case it is the face.\n",
    "    eyes = eye_cascade.detectMultiScale(roi_rgb)\n",
    "    for(ex,ey,ew,eh) in eyes:\n",
    "        cv2.rectangle(roi_color,(ex,ey),(ex+ew,ey+eh),(0,255,0),1)\n",
    "\n",
    "plt.figure()\n",
    "#plt.imshow(face_img, cmap='gray') shows the image with the rectangle around the face and eyes"
   ]
  },
  {
   "cell_type": "code",
   "execution_count": 10,
   "id": "7ae361a4-42ad-4256-9c73-39e5cdc1df6d",
   "metadata": {},
   "outputs": [],
   "source": [
    "#plt.imshow(roi_color, cmap='gray') shows the face with the rectangle around the eyes\n",
    "\n",
    "#Using a function  to crop the image\n",
    "def get_cropped_image_if_2_eyes(image_path):\n",
    "    img = cv2.imread(image_path)\n",
    "    if img is None:\n",
    "            print(f\"Failed to load image\")\n",
    "            return None\n",
    "    gray = cv2.cvtColor(img, cv2.COLOR_BGR2GRAY)\n",
    "    faces = face_cascade.detectMultiScale(gray,1.3,5) #Argument 1.3 is the scaling factor and 5 is the minimum neighbors.\n",
    "    for (x,y,w,h) in faces:\n",
    "        roi_gray = gray[y:y+h,x:x+w]\n",
    "        roi_color = img[y:y+h,x:x+w]\n",
    "        eyes = eye_cascade.detectMultiScale(roi_gray)\n",
    "        if len(eyes)>=2:\n",
    "            return roi_color #We can make this more robust by adding this in a roi_color array and then returning that array.\n",
    "#It gets two images."
   ]
  },
  {
   "cell_type": "code",
   "execution_count": 11,
   "id": "ecd78f46-0796-42f1-b096-7ae8cfe72bde",
   "metadata": {},
   "outputs": [],
   "source": [
    "#Using this function.        \n",
    "crop_img = get_cropped_image_if_2_eyes(r\"C:\\Users\\Abhay\\Desktop\\Programs\\Projects\\AvengersClassifier\\model\\test_images\\TonyStark1.jpg\")\n",
    "#plt.imshow(crop_img) is used to show the cropped image of the specified directory."
   ]
  },
  {
   "cell_type": "code",
   "execution_count": 12,
   "id": "1724fc7c-bda9-4996-b4bf-237bd9de5b36",
   "metadata": {},
   "outputs": [],
   "source": [
    "#Now we have to crop every image and then store it in a folder\n",
    "path_to_data = r\"C:\\Users\\Abhay\\Desktop\\Programs\\Projects\\AvengersClassifier\\model\\dataset\" #Path to the dataset\n",
    "path_to_cr_data = r\"C:\\Users\\Abhay\\Desktop\\Programs\\Projects\\AvengersClassifier\\model\\dataset\\Cropped_Images\"  #Path to the cropped dataset"
   ]
  },
  {
   "cell_type": "code",
   "execution_count": 13,
   "id": "821ebe19-0b5f-4b0c-9222-82619fc578be",
   "metadata": {},
   "outputs": [],
   "source": [
    "img_dirs =[]\n",
    "for entry in os.scandir(path_to_data):\n",
    "    if entry.is_dir():\n",
    "        img_dirs.append(entry.path)\n",
    "#print(img_dirs) to show the subdirectories in the dataset"
   ]
  },
  {
   "cell_type": "code",
   "execution_count": 14,
   "id": "b9fd71d9-6363-4ccf-9147-2669789a5ae1",
   "metadata": {},
   "outputs": [],
   "source": [
    "if os.path.exists(path_to_cr_data): #Checks if the path exists or not\n",
    "    shutil.rmtree(path_to_cr_data) #Deletes the folder if it already exists\n",
    "os.mkdir(path_to_cr_data) #Makes the directory"
   ]
  },
  {
   "cell_type": "code",
   "execution_count": 15,
   "id": "b5e66574-38c1-418a-99e9-ef4d622a91a9",
   "metadata": {},
   "outputs": [],
   "source": [
    "def is_image_file(filename):\n",
    "    return filename.lower().endswith(('.png', '.jpg', '.jpeg'))"
   ]
  },
  {
   "cell_type": "code",
   "execution_count": 16,
   "id": "f57d6fab-2111-4ff2-8b09-78ba39da8013",
   "metadata": {},
   "outputs": [
    {
     "name": "stdout",
     "output_type": "stream",
     "text": [
      "Processing: Bruce-Banner\n",
      "Generating Cropped in: C:\\Users\\Abhay\\Desktop\\Programs\\Projects\\AvengersClassifier\\model\\dataset\\Cropped_Images\\Bruce-Banner\n",
      "Processing: Clint-Barton\n",
      "Generating Cropped in: C:\\Users\\Abhay\\Desktop\\Programs\\Projects\\AvengersClassifier\\model\\dataset\\Cropped_Images\\Clint-Barton\n",
      "Processing: Cropped_Images\n",
      "Failed to load image\n",
      "Failed to load image\n",
      "Processing: Natasha-Romanoff\n",
      "Generating Cropped in: C:\\Users\\Abhay\\Desktop\\Programs\\Projects\\AvengersClassifier\\model\\dataset\\Cropped_Images\\Natasha-Romanoff\n",
      "Processing: Steve-Rogers\n",
      "Generating Cropped in: C:\\Users\\Abhay\\Desktop\\Programs\\Projects\\AvengersClassifier\\model\\dataset\\Cropped_Images\\Steve-Rogers\n",
      "Processing: Thor-Odinson\n",
      "Generating Cropped in: C:\\Users\\Abhay\\Desktop\\Programs\\Projects\\AvengersClassifier\\model\\dataset\\Cropped_Images\\Thor-Odinson\n",
      "Processing: Tony-Stark\n",
      "Generating Cropped in: C:\\Users\\Abhay\\Desktop\\Programs\\Projects\\AvengersClassifier\\model\\dataset\\Cropped_Images\\Tony-Stark\n"
     ]
    }
   ],
   "source": [
    "cropped_image_dirs = []\n",
    "avengers_file_name_dict = {}\n",
    "\n",
    "for img_dir in img_dirs:\n",
    "    count = 1\n",
    "    avengers_name = img_dir.split('\\\\')[-1]  # Extract Avenger's name\n",
    "    print(\"Processing:\", avengers_name)\n",
    "    \n",
    "    for entry in os.scandir(img_dir):\n",
    "        roi_color = get_cropped_image_if_2_eyes(entry.path)\n",
    "        if roi_color is not None:\n",
    "            cropped_folder = os.path.join(path_to_cr_data, avengers_name)\n",
    "            \n",
    "            if not os.path.exists(cropped_folder):\n",
    "                os.makedirs(cropped_folder)\n",
    "                cropped_image_dirs.append(cropped_folder)\n",
    "                print(\"Generating Cropped in:\", cropped_folder)\n",
    "\n",
    "            cropped_file_name = avengers_name + str(count) + \".png\"\n",
    "            cropped_file_path = os.path.join(cropped_folder, cropped_file_name)\n",
    "            \n",
    "            cv2.imwrite(cropped_file_path, roi_color)\n",
    "\n",
    "            if avengers_name not in avengers_file_name_dict:\n",
    "                avengers_file_name_dict[avengers_name] = []\n",
    "\n",
    "            avengers_file_name_dict[avengers_name].append(cropped_file_path)\n",
    "            count += 1"
   ]
  },
  {
   "cell_type": "code",
   "execution_count": 17,
   "id": "a8ac3fcb-2d6f-43fd-93e0-13f4b4a090a9",
   "metadata": {},
   "outputs": [],
   "source": [
    "def w2d(img, mode='haar', level=1):\n",
    "    #Convert to grayscale\n",
    "    imArray = cv2.cvtColor(img,cv2.COLOR_RGB2GRAY)\n",
    "    #Convert to float\n",
    "    imArray = np.float32(imArray)\n",
    "    imArray /= 255.0\n",
    "    #Compute coefficients\n",
    "    coeffs=pywt.wavedec2(imArray,mode,level=level)\n",
    "\n",
    "    #Process Coefficients\n",
    "    coeffs_H=list(coeffs)\n",
    "    coeffs_H[0] *= 0\n",
    "\n",
    "    #Reconstruct the image\n",
    "    imArray_H = pywt.waverec2(coeffs_H, mode)\n",
    "    imArray_H *= 255\n",
    "    imArray_H = np.uint8(imArray_H)\n",
    "\n",
    "    return imArray_H\n",
    "#This function is used to convert the image to haar wavelet transform"
   ]
  },
  {
   "cell_type": "code",
   "execution_count": 18,
   "id": "31366ee0-85f1-407f-8516-e0b848277429",
   "metadata": {},
   "outputs": [
    {
     "data": {
      "text/plain": [
       "{'Bruce-Banner': 0,\n",
       " 'Clint-Barton': 1,\n",
       " 'Natasha-Romanoff': 2,\n",
       " 'Steve-Rogers': 3,\n",
       " 'Thor-Odinson': 4,\n",
       " 'Tony-Stark': 5}"
      ]
     },
     "execution_count": 18,
     "metadata": {},
     "output_type": "execute_result"
    }
   ],
   "source": [
    "class_dict = {}\n",
    "count = 0\n",
    "for avengers_name in avengers_file_name_dict.keys():\n",
    "    class_dict[avengers_name] = count\n",
    "    count += 1\n",
    "class_dict"
   ]
  },
  {
   "cell_type": "code",
   "execution_count": 19,
   "id": "f9577f17-78f8-4e21-85f3-6fdbf4b8a1a3",
   "metadata": {},
   "outputs": [
    {
     "name": "stdout",
     "output_type": "stream",
     "text": [
      "0.42857142857142855\n"
     ]
    }
   ],
   "source": [
    "x=[]\n",
    "y=[]\n",
    "for avengers_name, training_files in avengers_file_name_dict.items():\n",
    "    for training_image in training_files:\n",
    "        img = cv2.imread(training_image)\n",
    "        if img is None:\n",
    "            continue\n",
    "        scaled_raw_img = cv2.resize(img,(32,32)) #Scales the image to 32x32\n",
    "        img_har = w2d(scaled_raw_img,'haar',5)\n",
    "        scaled_raw_har = cv2.resize(img_har,(32,32))\n",
    "        combined_img=np.vstack((scaled_raw_img.reshape(32*32*3,1),scaled_raw_har.reshape(32*32,1)))\n",
    "        #Stacks both the images vertically and reshapes them to 32x32x3 and 32x32 respectively\n",
    "        #This is the final image that we will use for training\n",
    "        x.append(combined_img)\n",
    "        y.append(class_dict[avengers_name])\n",
    "x = np.array(x).reshape(len(x),4096).astype(float) #To make the array a float array\n",
    "\n",
    "#Splitting the data into training and testing data then, creating pipeline\n",
    "x_train, x_test, y_train, y_test = train_test_split(x,y,random_state=0)\n",
    "pipe = Pipeline([('scaler',StandardScaler()),('svc',SVC(kernel = 'rbf', C=10))])\n",
    "#This is the pipeline that we will use for training\n",
    "pipe.fit(x_train,y_train) #Fits the model to the training data\n",
    "print(pipe.score(x_test,y_test))"
   ]
  },
  {
   "cell_type": "code",
   "execution_count": 20,
   "id": "6a849e1c-0298-4eca-afb8-3a5edb85b00e",
   "metadata": {},
   "outputs": [
    {
     "name": "stdout",
     "output_type": "stream",
     "text": [
      "              precision    recall  f1-score   support\n",
      "\n",
      "           0       0.00      0.00      0.00         6\n",
      "           1       0.33      0.50      0.40         8\n",
      "           2       0.57      0.80      0.67        10\n",
      "           3       0.33      0.47      0.39        15\n",
      "           4       1.00      0.20      0.33         5\n",
      "           5       1.00      0.20      0.33         5\n",
      "\n",
      "    accuracy                           0.43        49\n",
      "   macro avg       0.54      0.36      0.35        49\n",
      "weighted avg       0.48      0.43      0.39        49\n",
      "\n"
     ]
    },
    {
     "name": "stderr",
     "output_type": "stream",
     "text": [
      "C:\\Users\\Abhay\\AppData\\Local\\Programs\\Python\\Python310\\lib\\site-packages\\sklearn\\metrics\\_classification.py:1565: UndefinedMetricWarning: Precision is ill-defined and being set to 0.0 in labels with no predicted samples. Use `zero_division` parameter to control this behavior.\n",
      "  _warn_prf(average, modifier, f\"{metric.capitalize()} is\", len(result))\n",
      "C:\\Users\\Abhay\\AppData\\Local\\Programs\\Python\\Python310\\lib\\site-packages\\sklearn\\metrics\\_classification.py:1565: UndefinedMetricWarning: Precision is ill-defined and being set to 0.0 in labels with no predicted samples. Use `zero_division` parameter to control this behavior.\n",
      "  _warn_prf(average, modifier, f\"{metric.capitalize()} is\", len(result))\n",
      "C:\\Users\\Abhay\\AppData\\Local\\Programs\\Python\\Python310\\lib\\site-packages\\sklearn\\metrics\\_classification.py:1565: UndefinedMetricWarning: Precision is ill-defined and being set to 0.0 in labels with no predicted samples. Use `zero_division` parameter to control this behavior.\n",
      "  _warn_prf(average, modifier, f\"{metric.capitalize()} is\", len(result))\n"
     ]
    }
   ],
   "source": [
    "print(classification_report(y_test,pipe.predict(x_test)))\n",
    "# Precision measures the accuracy of positive predictions, \n",
    "# while recall assesses the model's ability to identify all relevant positive instances."
   ]
  },
  {
   "cell_type": "code",
   "execution_count": 21,
   "id": "71cdb486-004f-4bcc-b560-595f0930d150",
   "metadata": {},
   "outputs": [],
   "source": [
    "from sklearn import svm\n",
    "from sklearn .model_selection import GridSearchCV\n",
    "from sklearn.pipeline import make_pipeline"
   ]
  },
  {
   "cell_type": "code",
   "execution_count": 22,
   "id": "2fa4e8bf-15ef-4442-9c22-6bdb2403f656",
   "metadata": {},
   "outputs": [],
   "source": [
    "# Trying out different models with different parameters,\n",
    "# To find the best model and parameters for the highest accuracy\n",
    "from sklearn.svm import SVC\n",
    "from sklearn.ensemble import RandomForestClassifier\n",
    "from sklearn.linear_model import LogisticRegression\n",
    "\n",
    "model_params = {\n",
    "    'svm': {\n",
    "        'model': SVC(gamma='auto', probability=True),\n",
    "        'params': {\n",
    "            'svc__C': [1, 10, 100, 1000], #Values of C\n",
    "            'svc__kernel': ['rbf', 'linear']\n",
    "        }\n",
    "    },\n",
    "    'random_forest': {\n",
    "        'model': RandomForestClassifier(),\n",
    "        'params': {\n",
    "            'randomforestclassifier__n_estimators': [1, 5, 10] #Number of decision trees\n",
    "        }\n",
    "    },\n",
    "    'logistic_regression': {\n",
    "        'model': LogisticRegression(solver='liblinear', multi_class='auto'),\n",
    "        'params': {\n",
    "            'logisticregression__C': [1, 5, 10]\n",
    "        }\n",
    "    }\n",
    "}\n"
   ]
  },
  {
   "cell_type": "code",
   "execution_count": 23,
   "id": "ad2fd807-e402-4cc0-af5d-94e9eb08088a",
   "metadata": {},
   "outputs": [
    {
     "name": "stderr",
     "output_type": "stream",
     "text": [
      "C:\\Users\\Abhay\\AppData\\Local\\Programs\\Python\\Python310\\lib\\site-packages\\sklearn\\linear_model\\_logistic.py:1247: FutureWarning: 'multi_class' was deprecated in version 1.5 and will be removed in 1.7. From then on, it will always use 'multinomial'. Leave it to its default value to avoid this warning.\n",
      "  warnings.warn(\n",
      "C:\\Users\\Abhay\\AppData\\Local\\Programs\\Python\\Python310\\lib\\site-packages\\sklearn\\linear_model\\_logistic.py:1247: FutureWarning: 'multi_class' was deprecated in version 1.5 and will be removed in 1.7. From then on, it will always use 'multinomial'. Leave it to its default value to avoid this warning.\n",
      "  warnings.warn(\n",
      "C:\\Users\\Abhay\\AppData\\Local\\Programs\\Python\\Python310\\lib\\site-packages\\sklearn\\linear_model\\_logistic.py:1247: FutureWarning: 'multi_class' was deprecated in version 1.5 and will be removed in 1.7. From then on, it will always use 'multinomial'. Leave it to its default value to avoid this warning.\n",
      "  warnings.warn(\n",
      "C:\\Users\\Abhay\\AppData\\Local\\Programs\\Python\\Python310\\lib\\site-packages\\sklearn\\linear_model\\_logistic.py:1247: FutureWarning: 'multi_class' was deprecated in version 1.5 and will be removed in 1.7. From then on, it will always use 'multinomial'. Leave it to its default value to avoid this warning.\n",
      "  warnings.warn(\n",
      "C:\\Users\\Abhay\\AppData\\Local\\Programs\\Python\\Python310\\lib\\site-packages\\sklearn\\linear_model\\_logistic.py:1247: FutureWarning: 'multi_class' was deprecated in version 1.5 and will be removed in 1.7. From then on, it will always use 'multinomial'. Leave it to its default value to avoid this warning.\n",
      "  warnings.warn(\n",
      "C:\\Users\\Abhay\\AppData\\Local\\Programs\\Python\\Python310\\lib\\site-packages\\sklearn\\linear_model\\_logistic.py:1247: FutureWarning: 'multi_class' was deprecated in version 1.5 and will be removed in 1.7. From then on, it will always use 'multinomial'. Leave it to its default value to avoid this warning.\n",
      "  warnings.warn(\n",
      "C:\\Users\\Abhay\\AppData\\Local\\Programs\\Python\\Python310\\lib\\site-packages\\sklearn\\linear_model\\_logistic.py:1247: FutureWarning: 'multi_class' was deprecated in version 1.5 and will be removed in 1.7. From then on, it will always use 'multinomial'. Leave it to its default value to avoid this warning.\n",
      "  warnings.warn(\n",
      "C:\\Users\\Abhay\\AppData\\Local\\Programs\\Python\\Python310\\lib\\site-packages\\sklearn\\linear_model\\_logistic.py:1247: FutureWarning: 'multi_class' was deprecated in version 1.5 and will be removed in 1.7. From then on, it will always use 'multinomial'. Leave it to its default value to avoid this warning.\n",
      "  warnings.warn(\n",
      "C:\\Users\\Abhay\\AppData\\Local\\Programs\\Python\\Python310\\lib\\site-packages\\sklearn\\linear_model\\_logistic.py:1247: FutureWarning: 'multi_class' was deprecated in version 1.5 and will be removed in 1.7. From then on, it will always use 'multinomial'. Leave it to its default value to avoid this warning.\n",
      "  warnings.warn(\n",
      "C:\\Users\\Abhay\\AppData\\Local\\Programs\\Python\\Python310\\lib\\site-packages\\sklearn\\linear_model\\_logistic.py:1247: FutureWarning: 'multi_class' was deprecated in version 1.5 and will be removed in 1.7. From then on, it will always use 'multinomial'. Leave it to its default value to avoid this warning.\n",
      "  warnings.warn(\n",
      "C:\\Users\\Abhay\\AppData\\Local\\Programs\\Python\\Python310\\lib\\site-packages\\sklearn\\linear_model\\_logistic.py:1247: FutureWarning: 'multi_class' was deprecated in version 1.5 and will be removed in 1.7. From then on, it will always use 'multinomial'. Leave it to its default value to avoid this warning.\n",
      "  warnings.warn(\n",
      "C:\\Users\\Abhay\\AppData\\Local\\Programs\\Python\\Python310\\lib\\site-packages\\sklearn\\linear_model\\_logistic.py:1247: FutureWarning: 'multi_class' was deprecated in version 1.5 and will be removed in 1.7. From then on, it will always use 'multinomial'. Leave it to its default value to avoid this warning.\n",
      "  warnings.warn(\n",
      "C:\\Users\\Abhay\\AppData\\Local\\Programs\\Python\\Python310\\lib\\site-packages\\sklearn\\linear_model\\_logistic.py:1247: FutureWarning: 'multi_class' was deprecated in version 1.5 and will be removed in 1.7. From then on, it will always use 'multinomial'. Leave it to its default value to avoid this warning.\n",
      "  warnings.warn(\n",
      "C:\\Users\\Abhay\\AppData\\Local\\Programs\\Python\\Python310\\lib\\site-packages\\sklearn\\linear_model\\_logistic.py:1247: FutureWarning: 'multi_class' was deprecated in version 1.5 and will be removed in 1.7. From then on, it will always use 'multinomial'. Leave it to its default value to avoid this warning.\n",
      "  warnings.warn(\n",
      "C:\\Users\\Abhay\\AppData\\Local\\Programs\\Python\\Python310\\lib\\site-packages\\sklearn\\linear_model\\_logistic.py:1247: FutureWarning: 'multi_class' was deprecated in version 1.5 and will be removed in 1.7. From then on, it will always use 'multinomial'. Leave it to its default value to avoid this warning.\n",
      "  warnings.warn(\n",
      "C:\\Users\\Abhay\\AppData\\Local\\Programs\\Python\\Python310\\lib\\site-packages\\sklearn\\linear_model\\_logistic.py:1247: FutureWarning: 'multi_class' was deprecated in version 1.5 and will be removed in 1.7. From then on, it will always use 'multinomial'. Leave it to its default value to avoid this warning.\n",
      "  warnings.warn(\n"
     ]
    },
    {
     "data": {
      "text/html": [
       "<div>\n",
       "<style scoped>\n",
       "    .dataframe tbody tr th:only-of-type {\n",
       "        vertical-align: middle;\n",
       "    }\n",
       "\n",
       "    .dataframe tbody tr th {\n",
       "        vertical-align: top;\n",
       "    }\n",
       "\n",
       "    .dataframe thead th {\n",
       "        text-align: right;\n",
       "    }\n",
       "</style>\n",
       "<table border=\"1\" class=\"dataframe\">\n",
       "  <thead>\n",
       "    <tr style=\"text-align: right;\">\n",
       "      <th></th>\n",
       "      <th>model</th>\n",
       "      <th>best_score</th>\n",
       "      <th>best_params</th>\n",
       "    </tr>\n",
       "  </thead>\n",
       "  <tbody>\n",
       "    <tr>\n",
       "      <th>0</th>\n",
       "      <td>svm</td>\n",
       "      <td>0.662069</td>\n",
       "      <td>{'svc__C': 1, 'svc__kernel': 'linear'}</td>\n",
       "    </tr>\n",
       "    <tr>\n",
       "      <th>1</th>\n",
       "      <td>random_forest</td>\n",
       "      <td>0.365517</td>\n",
       "      <td>{'randomforestclassifier__n_estimators': 10}</td>\n",
       "    </tr>\n",
       "    <tr>\n",
       "      <th>2</th>\n",
       "      <td>logistic_regression</td>\n",
       "      <td>0.662069</td>\n",
       "      <td>{'logisticregression__C': 1}</td>\n",
       "    </tr>\n",
       "  </tbody>\n",
       "</table>\n",
       "</div>"
      ],
      "text/plain": [
       "                 model  best_score  \\\n",
       "0                  svm    0.662069   \n",
       "1        random_forest    0.365517   \n",
       "2  logistic_regression    0.662069   \n",
       "\n",
       "                                    best_params  \n",
       "0        {'svc__C': 1, 'svc__kernel': 'linear'}  \n",
       "1  {'randomforestclassifier__n_estimators': 10}  \n",
       "2                  {'logisticregression__C': 1}  "
      ]
     },
     "execution_count": 23,
     "metadata": {},
     "output_type": "execute_result"
    }
   ],
   "source": [
    "#GridSearchCV iterates thru the dictionary, and goes thru everymodel and parameters specified above.\n",
    "#GridSearchCV (Grid Search Cross Validation) is a tool provided by scikit-learn to automatically find\n",
    "#the best combination of hyperparameters for a model, using cross-validation.\n",
    "\n",
    "scores = []\n",
    "best_estimators = {}\n",
    "import pandas as pd\n",
    "for algo, mp in model_params.items():\n",
    "    pipe = make_pipeline(StandardScaler(),mp['model']) #To Scale the data\n",
    "    clf = GridSearchCV(pipe,mp['params'],cv=5,return_train_score=False)#cv value specifies number of cross folds\n",
    "    clf.fit(x_train,y_train) #To make the validation set, X and Y will be split into training and validation set.\n",
    "    scores.append({\n",
    "        'model' : algo,\n",
    "        'best_score' : clf.best_score_,\n",
    "        'best_params' : clf.best_params_\n",
    "    })\n",
    "    best_estimators[algo] = clf.best_estimator_\n",
    "\n",
    "df = pd.DataFrame(scores,columns=['model','best_score','best_params'])\n",
    "df"
   ]
  },
  {
   "cell_type": "code",
   "execution_count": 24,
   "id": "ea1496a6-56d0-4c8f-92a6-33020c10b175",
   "metadata": {},
   "outputs": [
    {
     "data": {
      "text/plain": [
       "0.6122448979591837"
      ]
     },
     "execution_count": 24,
     "metadata": {},
     "output_type": "execute_result"
    }
   ],
   "source": [
    "best_estimators['svm'].score(x_test,y_test)"
   ]
  },
  {
   "cell_type": "code",
   "execution_count": 25,
   "id": "50446c28-aa5c-4b78-8f43-0a7e6403640e",
   "metadata": {},
   "outputs": [
    {
     "data": {
      "text/plain": [
       "0.32653061224489793"
      ]
     },
     "execution_count": 25,
     "metadata": {},
     "output_type": "execute_result"
    }
   ],
   "source": [
    "best_estimators['random_forest'].score(x_test,y_test)"
   ]
  },
  {
   "cell_type": "code",
   "execution_count": 26,
   "id": "add9d851-1708-4b82-999d-6a2a90ed2ebb",
   "metadata": {},
   "outputs": [
    {
     "data": {
      "text/plain": [
       "0.5510204081632653"
      ]
     },
     "execution_count": 26,
     "metadata": {},
     "output_type": "execute_result"
    }
   ],
   "source": [
    "best_estimators['logistic_regression'].score(x_test,y_test)"
   ]
  },
  {
   "cell_type": "code",
   "execution_count": 27,
   "id": "e73baa3d-ec1d-4340-b233-626fa22364b1",
   "metadata": {},
   "outputs": [],
   "source": [
    "#Since we checked both the test and train value, we use 'svm' here"
   ]
  },
  {
   "cell_type": "code",
   "execution_count": 28,
   "id": "d8c13a00-0bb2-4735-8f31-2aa867fcae7d",
   "metadata": {},
   "outputs": [],
   "source": [
    "best_clf = best_estimators['svm'] \n",
    "#Setting the best classifier as svm, which is already trained by us!"
   ]
  },
  {
   "cell_type": "code",
   "execution_count": 29,
   "id": "eabfaf21-1d81-40ba-8649-9b1355eb38ae",
   "metadata": {},
   "outputs": [
    {
     "data": {
      "text/plain": [
       "{'Bruce-Banner': 0,\n",
       " 'Clint-Barton': 1,\n",
       " 'Natasha-Romanoff': 2,\n",
       " 'Steve-Rogers': 3,\n",
       " 'Thor-Odinson': 4,\n",
       " 'Tony-Stark': 5}"
      ]
     },
     "execution_count": 29,
     "metadata": {},
     "output_type": "execute_result"
    }
   ],
   "source": [
    "#We have the dictionary \n",
    "class_dict"
   ]
  },
  {
   "cell_type": "code",
   "execution_count": 30,
   "id": "a9adea3e-b988-47d6-bf5d-95dbb00606f3",
   "metadata": {},
   "outputs": [
    {
     "data": {
      "text/plain": [
       "Text(95.72222222222221, 0.5, 'Truth')"
      ]
     },
     "execution_count": 30,
     "metadata": {},
     "output_type": "execute_result"
    },
    {
     "data": {
      "image/png": "[encoded data removed]",
      "text/plain": [
       "<Figure size 1000x700 with 2 Axes>"
      ]
     },
     "metadata": {},
     "output_type": "display_data"
    }
   ],
   "source": [
    "#Now print the confusion matrix in an appealing way\n",
    "#What is Confusion Matrix?\n",
    "#A confusion matrix is a performance measurement tool for classification problems. \n",
    "#It summarizes how well a classification model (like logistic regression, SVM, random forest, etc.) \n",
    "#is performing by comparing actual vs predicted values.\n",
    "\n",
    "import seaborn as sn\n",
    "from sklearn.metrics import confusion_matrix\n",
    "plt.figure(figsize = (10,7))\n",
    "cm = confusion_matrix(y_test,best_clf.predict(x_test))\n",
    "sn.heatmap(cm,annot=True)\n",
    "plt.xlabel('Predicted')\n",
    "plt.ylabel('Truth')"
   ]
  },
  {
   "cell_type": "code",
   "execution_count": 31,
   "id": "4a448af5-1420-46cc-877f-e9c7fdb223bb",
   "metadata": {},
   "outputs": [
    {
     "data": {
      "text/plain": [
       "49"
      ]
     },
     "execution_count": 31,
     "metadata": {},
     "output_type": "execute_result"
    }
   ],
   "source": [
    "len(x_test) #Says the number of total test cases"
   ]
  },
  {
   "cell_type": "code",
   "execution_count": 32,
   "id": "634f4d66-c431-4614-b7cc-a88f5cbc9758",
   "metadata": {},
   "outputs": [
    {
     "name": "stdout",
     "output_type": "stream",
     "text": [
      "Requirement already satisfied: joblib in c:\\users\\abhay\\appdata\\local\\programs\\python\\python310\\lib\\site-packages (1.5.0)\n"
     ]
    },
    {
     "data": {
      "text/plain": [
       "['saved_model.pkl']"
      ]
     },
     "execution_count": 32,
     "metadata": {},
     "output_type": "execute_result"
    }
   ],
   "source": [
    "#SAVE OUR TRAINED MODEL TO OUR FILE\n",
    "!pip install joblib\n",
    "import joblib\n",
    "#We save the model as a pickle in a file\n",
    "joblib.dump(best_clf,'saved_model.pkl')"
   ]
  },
  {
   "cell_type": "code",
   "execution_count": 33,
   "id": "5043cbfc-dd2b-4426-bb57-912f12ba8e3b",
   "metadata": {},
   "outputs": [],
   "source": [
    "#SAVE CLASS DICTIONARY!!\n",
    "import json\n",
    "with open(\"class_dictionary.json\",\"w\") as f:\n",
    "    f.write(json.dumps(class_dict))\n",
    "#Now the job for the Data Science is over, as they created the 'pkl' model for the classifier!!"
   ]
  }
 ],
 "metadata": {
  "kernelspec": {
   "display_name": "Python 3 (ipykernel)",
   "language": "python",
   "name": "python3"
  },
  "language_info": {
   "codemirror_mode": {
    "name": "ipython",
    "version": 3
   },
   "file_extension": ".py",
   "mimetype": "text/x-python",
   "name": "python",
   "nbconvert_exporter": "python",
   "pygments_lexer": "ipython3",
   "version": "3.10.10"
  }
 },
 "nbformat": 4,
 "nbformat_minor": 5
}
